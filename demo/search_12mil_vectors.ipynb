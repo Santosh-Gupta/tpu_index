{
  "nbformat": 4,
  "nbformat_minor": 0,
  "metadata": {
    "accelerator": "TPU",
    "colab": {
      "name": "search_12mil_vectors",
      "provenance": [],
      "collapsed_sections": []
    },
    "kernelspec": {
      "name": "python3",
      "display_name": "Python 3"
    },
    "language_info": {
      "codemirror_mode": {
        "name": "ipython",
        "version": 3
      },
      "file_extension": ".py",
      "mimetype": "text/x-python",
      "name": "python",
      "nbconvert_exporter": "python",
      "pygments_lexer": "ipython3",
      "version": "3.6.7"
    }
  },
  "cells": [
    {
      "cell_type": "code",
      "metadata": {
        "colab_type": "code",
        "id": "8wAw2JV6F4Am",
        "outputId": "260b4205-269e-4c6b-e9ae-4d533628e5a3",
        "colab": {
          "base_uri": "https://localhost:8080/",
          "height": 408
        }
      },
      "source": [
        "!gdown --id \"1-23aNm7j0bnycvyd_OaQfofVYPTewgOI\"   # abstract vectors\n",
        "!gdown --id \"1-1HED-B-HtuZR9kNtybz9sypVpk2A_fX\"   # TitlesAbstractsEmbedIds\n",
        "!wget 'https://s3-us-west-2.amazonaws.com/ai2-s2-research/scibert/huggingface_pytorch/scibert_scivocab_uncased.tar'\n",
        "!tar -xvf 'scibert_scivocab_uncased.tar'"
      ],
      "execution_count": 1,
      "outputs": [
        {
          "output_type": "stream",
          "text": [
            "Downloading...\n",
            "From: https://drive.google.com/uc?id=1-23aNm7j0bnycvyd_OaQfofVYPTewgOI\n",
            "To: /content/AbstractSimVectors.npy\n",
            "2.59GB [00:21, 121MB/s]\n",
            "Downloading...\n",
            "From: https://drive.google.com/uc?id=1-1HED-B-HtuZR9kNtybz9sypVpk2A_fX\n",
            "To: /content/TitlesAbstractsEmbedIds.json.gzip\n",
            "397MB [00:02, 139MB/s] \n",
            "--2019-12-29 13:52:18--  https://s3-us-west-2.amazonaws.com/ai2-s2-research/scibert/huggingface_pytorch/scibert_scivocab_uncased.tar\n",
            "Resolving s3-us-west-2.amazonaws.com (s3-us-west-2.amazonaws.com)... 52.218.212.32\n",
            "Connecting to s3-us-west-2.amazonaws.com (s3-us-west-2.amazonaws.com)|52.218.212.32|:443... connected.\n",
            "HTTP request sent, awaiting response... 200 OK\n",
            "Length: 442460160 (422M) [application/x-tar]\n",
            "Saving to: ‘scibert_scivocab_uncased.tar’\n",
            "\n",
            "scibert_scivocab_un 100%[===================>] 421.96M  29.4MB/s    in 10s     \n",
            "\n",
            "2019-12-29 13:52:29 (40.4 MB/s) - ‘scibert_scivocab_uncased.tar’ saved [442460160/442460160]\n",
            "\n",
            "scibert_scivocab_uncased/\n",
            "scibert_scivocab_uncased/vocab.txt\n",
            "scibert_scivocab_uncased/pytorch_model.bin\n",
            "scibert_scivocab_uncased/config.json\n"
          ],
          "name": "stdout"
        }
      ]
    },
    {
      "cell_type": "code",
      "metadata": {
        "id": "JP2AqdEiQhbS",
        "colab_type": "code",
        "colab": {}
      },
      "source": [
        "!pip install transformers --quiet"
      ],
      "execution_count": 0,
      "outputs": []
    },
    {
      "cell_type": "code",
      "metadata": {
        "colab_type": "code",
        "id": "SGov6e8uGO3B",
        "outputId": "6aa4ea7a-afa8-4c0e-b496-c9d751e67f0f",
        "colab": {
          "base_uri": "https://localhost:8080/",
          "height": 51
        }
      },
      "source": [
        "%tensorflow_version 2.x\n",
        "import numpy as np\n",
        "import tensorflow as tf\n",
        "from time import time\n",
        "from tqdm import tqdm_notebook as tqdm\n",
        "from transformers import BertTokenizer\n",
        "import pandas as pd\n",
        "from pprint import pprint\n",
        "\n",
        "print('TensorFlow:', tf.__version__)"
      ],
      "execution_count": 1,
      "outputs": [
        {
          "output_type": "stream",
          "text": [
            "TensorFlow 2.x selected.\n",
            "TensorFlow: 2.1.0-rc1\n"
          ],
          "name": "stdout"
        }
      ]
    },
    {
      "cell_type": "code",
      "metadata": {
        "colab_type": "code",
        "id": "iht3WQa3H_g6",
        "outputId": "1a570aa4-6f14-4e85-bd26-e03148d04237",
        "colab": {
          "base_uri": "https://localhost:8080/",
          "height": 714
        }
      },
      "source": [
        "try:\n",
        "    tpu = tf.distribute.cluster_resolver.TPUClusterResolver()\n",
        "    tf.config.experimental_connect_to_cluster(tpu)\n",
        "    tf.tpu.experimental.initialize_tpu_system(tpu)\n",
        "    strategy = tf.distribute.experimental.TPUStrategy(tpu)\n",
        "except ValueError:\n",
        "    print('Failed initializing TPU, cannot proceed')"
      ],
      "execution_count": 2,
      "outputs": [
        {
          "output_type": "stream",
          "text": [
            "INFO:absl:Entering into master device scope: /job:worker/replica:0/task:0/device:CPU:0\n"
          ],
          "name": "stderr"
        },
        {
          "output_type": "stream",
          "text": [
            "INFO:tensorflow:Initializing the TPU system: 10.110.79.146:8470\n"
          ],
          "name": "stdout"
        },
        {
          "output_type": "stream",
          "text": [
            "INFO:tensorflow:Initializing the TPU system: 10.110.79.146:8470\n"
          ],
          "name": "stderr"
        },
        {
          "output_type": "stream",
          "text": [
            "INFO:tensorflow:Clearing out eager caches\n"
          ],
          "name": "stdout"
        },
        {
          "output_type": "stream",
          "text": [
            "INFO:tensorflow:Clearing out eager caches\n"
          ],
          "name": "stderr"
        },
        {
          "output_type": "stream",
          "text": [
            "INFO:tensorflow:Finished initializing TPU system.\n"
          ],
          "name": "stdout"
        },
        {
          "output_type": "stream",
          "text": [
            "INFO:tensorflow:Finished initializing TPU system.\n"
          ],
          "name": "stderr"
        },
        {
          "output_type": "stream",
          "text": [
            "INFO:tensorflow:Found TPU system:\n"
          ],
          "name": "stdout"
        },
        {
          "output_type": "stream",
          "text": [
            "INFO:tensorflow:Found TPU system:\n"
          ],
          "name": "stderr"
        },
        {
          "output_type": "stream",
          "text": [
            "INFO:tensorflow:*** Num TPU Cores: 8\n"
          ],
          "name": "stdout"
        },
        {
          "output_type": "stream",
          "text": [
            "INFO:tensorflow:*** Num TPU Cores: 8\n"
          ],
          "name": "stderr"
        },
        {
          "output_type": "stream",
          "text": [
            "INFO:tensorflow:*** Num TPU Workers: 1\n"
          ],
          "name": "stdout"
        },
        {
          "output_type": "stream",
          "text": [
            "INFO:tensorflow:*** Num TPU Workers: 1\n"
          ],
          "name": "stderr"
        },
        {
          "output_type": "stream",
          "text": [
            "INFO:tensorflow:*** Num TPU Cores Per Worker: 8\n"
          ],
          "name": "stdout"
        },
        {
          "output_type": "stream",
          "text": [
            "INFO:tensorflow:*** Num TPU Cores Per Worker: 8\n"
          ],
          "name": "stderr"
        },
        {
          "output_type": "stream",
          "text": [
            "INFO:tensorflow:*** Available Device: _DeviceAttributes(/job:localhost/replica:0/task:0/device:CPU:0, CPU, 0, 0)\n"
          ],
          "name": "stdout"
        },
        {
          "output_type": "stream",
          "text": [
            "INFO:tensorflow:*** Available Device: _DeviceAttributes(/job:localhost/replica:0/task:0/device:CPU:0, CPU, 0, 0)\n"
          ],
          "name": "stderr"
        },
        {
          "output_type": "stream",
          "text": [
            "INFO:tensorflow:*** Available Device: _DeviceAttributes(/job:localhost/replica:0/task:0/device:XLA_CPU:0, XLA_CPU, 0, 0)\n"
          ],
          "name": "stdout"
        },
        {
          "output_type": "stream",
          "text": [
            "INFO:tensorflow:*** Available Device: _DeviceAttributes(/job:localhost/replica:0/task:0/device:XLA_CPU:0, XLA_CPU, 0, 0)\n"
          ],
          "name": "stderr"
        },
        {
          "output_type": "stream",
          "text": [
            "INFO:tensorflow:*** Available Device: _DeviceAttributes(/job:worker/replica:0/task:0/device:CPU:0, CPU, 0, 0)\n"
          ],
          "name": "stdout"
        },
        {
          "output_type": "stream",
          "text": [
            "INFO:tensorflow:*** Available Device: _DeviceAttributes(/job:worker/replica:0/task:0/device:CPU:0, CPU, 0, 0)\n"
          ],
          "name": "stderr"
        },
        {
          "output_type": "stream",
          "text": [
            "INFO:tensorflow:*** Available Device: _DeviceAttributes(/job:worker/replica:0/task:0/device:TPU:0, TPU, 0, 0)\n"
          ],
          "name": "stdout"
        },
        {
          "output_type": "stream",
          "text": [
            "INFO:tensorflow:*** Available Device: _DeviceAttributes(/job:worker/replica:0/task:0/device:TPU:0, TPU, 0, 0)\n"
          ],
          "name": "stderr"
        },
        {
          "output_type": "stream",
          "text": [
            "INFO:tensorflow:*** Available Device: _DeviceAttributes(/job:worker/replica:0/task:0/device:TPU:1, TPU, 0, 0)\n"
          ],
          "name": "stdout"
        },
        {
          "output_type": "stream",
          "text": [
            "INFO:tensorflow:*** Available Device: _DeviceAttributes(/job:worker/replica:0/task:0/device:TPU:1, TPU, 0, 0)\n"
          ],
          "name": "stderr"
        },
        {
          "output_type": "stream",
          "text": [
            "INFO:tensorflow:*** Available Device: _DeviceAttributes(/job:worker/replica:0/task:0/device:TPU:2, TPU, 0, 0)\n"
          ],
          "name": "stdout"
        },
        {
          "output_type": "stream",
          "text": [
            "INFO:tensorflow:*** Available Device: _DeviceAttributes(/job:worker/replica:0/task:0/device:TPU:2, TPU, 0, 0)\n"
          ],
          "name": "stderr"
        },
        {
          "output_type": "stream",
          "text": [
            "INFO:tensorflow:*** Available Device: _DeviceAttributes(/job:worker/replica:0/task:0/device:TPU:3, TPU, 0, 0)\n"
          ],
          "name": "stdout"
        },
        {
          "output_type": "stream",
          "text": [
            "INFO:tensorflow:*** Available Device: _DeviceAttributes(/job:worker/replica:0/task:0/device:TPU:3, TPU, 0, 0)\n"
          ],
          "name": "stderr"
        },
        {
          "output_type": "stream",
          "text": [
            "INFO:tensorflow:*** Available Device: _DeviceAttributes(/job:worker/replica:0/task:0/device:TPU:4, TPU, 0, 0)\n"
          ],
          "name": "stdout"
        },
        {
          "output_type": "stream",
          "text": [
            "INFO:tensorflow:*** Available Device: _DeviceAttributes(/job:worker/replica:0/task:0/device:TPU:4, TPU, 0, 0)\n"
          ],
          "name": "stderr"
        },
        {
          "output_type": "stream",
          "text": [
            "INFO:tensorflow:*** Available Device: _DeviceAttributes(/job:worker/replica:0/task:0/device:TPU:5, TPU, 0, 0)\n"
          ],
          "name": "stdout"
        },
        {
          "output_type": "stream",
          "text": [
            "INFO:tensorflow:*** Available Device: _DeviceAttributes(/job:worker/replica:0/task:0/device:TPU:5, TPU, 0, 0)\n"
          ],
          "name": "stderr"
        },
        {
          "output_type": "stream",
          "text": [
            "INFO:tensorflow:*** Available Device: _DeviceAttributes(/job:worker/replica:0/task:0/device:TPU:6, TPU, 0, 0)\n"
          ],
          "name": "stdout"
        },
        {
          "output_type": "stream",
          "text": [
            "INFO:tensorflow:*** Available Device: _DeviceAttributes(/job:worker/replica:0/task:0/device:TPU:6, TPU, 0, 0)\n"
          ],
          "name": "stderr"
        },
        {
          "output_type": "stream",
          "text": [
            "INFO:tensorflow:*** Available Device: _DeviceAttributes(/job:worker/replica:0/task:0/device:TPU:7, TPU, 0, 0)\n"
          ],
          "name": "stdout"
        },
        {
          "output_type": "stream",
          "text": [
            "INFO:tensorflow:*** Available Device: _DeviceAttributes(/job:worker/replica:0/task:0/device:TPU:7, TPU, 0, 0)\n"
          ],
          "name": "stderr"
        },
        {
          "output_type": "stream",
          "text": [
            "INFO:tensorflow:*** Available Device: _DeviceAttributes(/job:worker/replica:0/task:0/device:TPU_SYSTEM:0, TPU_SYSTEM, 0, 0)\n"
          ],
          "name": "stdout"
        },
        {
          "output_type": "stream",
          "text": [
            "INFO:tensorflow:*** Available Device: _DeviceAttributes(/job:worker/replica:0/task:0/device:TPU_SYSTEM:0, TPU_SYSTEM, 0, 0)\n"
          ],
          "name": "stderr"
        },
        {
          "output_type": "stream",
          "text": [
            "INFO:tensorflow:*** Available Device: _DeviceAttributes(/job:worker/replica:0/task:0/device:XLA_CPU:0, XLA_CPU, 0, 0)\n"
          ],
          "name": "stdout"
        },
        {
          "output_type": "stream",
          "text": [
            "INFO:tensorflow:*** Available Device: _DeviceAttributes(/job:worker/replica:0/task:0/device:XLA_CPU:0, XLA_CPU, 0, 0)\n"
          ],
          "name": "stderr"
        }
      ]
    },
    {
      "cell_type": "code",
      "metadata": {
        "colab_type": "code",
        "id": "3ks95sxuIKbR",
        "colab": {}
      },
      "source": [
        "class Index:\n",
        "    def __init__(self, vectors, worker):\n",
        "        self.vectors = vectors\n",
        "        self.worker = worker\n",
        "        print('Building index with {} vectors on {}'.format(\n",
        "            vectors.shape[0], worker))\n",
        "\n",
        "    @tf.function\n",
        "    def search(self, query_vector, top_k=20):\n",
        "        with tf.device(self.worker):\n",
        "            dot_product = tf.reduce_sum(tf.multiply(\n",
        "                self.vectors, query_vector), axis=1)\n",
        "            distances = 1 - dot_product\n",
        "            sorted_indices = tf.argsort(distances)\n",
        "            nearest_distances = tf.gather(distances, sorted_indices)\n",
        "            return nearest_distances[:top_k], sorted_indices[:top_k]\n",
        "        # ToDo: Add search using L2 distance\n",
        "\n",
        "\n",
        "class TPUIndex:\n",
        "    def __init__(self, num_tpu_cores=8):\n",
        "        self.workers = ['/job:worker/replica:0/task:0/device:TPU:' + str(i)\n",
        "                        for i in range(num_tpu_cores)]\n",
        "        self.indices = [None] * num_tpu_cores\n",
        "        self.normalized_vectors = False\n",
        "\n",
        "    def create_index(self, vectors, normalize=True):\n",
        "        self.vectors = vectors\n",
        "        self.normalized_vectors = normalize\n",
        "\n",
        "        drop = self.vectors.shape[0] % len(self.workers)\n",
        "        self.vecs_per_index = self.vectors.shape[0] // len(self.workers)\n",
        "        self.vectors = self.vectors[:-drop]\n",
        "        self.vectors = np.split(self.vectors, len(self.workers), axis=0)\n",
        "\n",
        "        for i in range(len(self.workers)):\n",
        "            worker = self.workers[i]\n",
        "            with tf.device(worker):\n",
        "                vecs = self.vectors[i]\n",
        "                if self.normalized_vectors:\n",
        "                    vecs = tf.math.l2_normalize(vecs, axis=1)\n",
        "                self.indices[i] = Index(vecs, worker)\n",
        "\n",
        "    def search(self, xq, distance_metric='cosine', top_k=10):\n",
        "        dims = xq.shape\n",
        "\n",
        "        assert len(dims) == 2, \\\n",
        "            '''Expected query_vector to have 2 dimesions but\n",
        "               found {}'''.format(len(dims))\n",
        "\n",
        "        assert dims[0] == 1, \\\n",
        "            '''Expected query_vector to have shape == [1, None]\n",
        "               but got'''.format(dims)\n",
        "\n",
        "        if distance_metric == 'cosine':\n",
        "            assert self.normalized_vectors, \\\n",
        "                '''Currently only normalized vectors are supported\n",
        "                   for searching with cosine distances'''\n",
        "\n",
        "        Dx, Ix = [], []\n",
        "        for i in range(len(self.workers)):\n",
        "            print('Search running on {}'.format(self.indices[i].worker))\n",
        "            d, idx = self.indices[i].search(xq, top_k)\n",
        "            Dx.extend(d.numpy())\n",
        "            Ix.extend(i * self.vecs_per_index + idx.numpy())\n",
        "\n",
        "        # ToDo: Dont sort again, merge the already sorted distance arrays\n",
        "        id_sorted = np.argsort(Dx)[:top_k]\n",
        "        Dx = np.array(Dx)[id_sorted]\n",
        "        Ix = np.array(Ix)[id_sorted]\n",
        "        return Dx, Ix"
      ],
      "execution_count": 0,
      "outputs": []
    },
    {
      "cell_type": "code",
      "metadata": {
        "colab_type": "code",
        "id": "DFloyWt7G8ts",
        "colab": {
          "base_uri": "https://localhost:8080/",
          "height": 34
        },
        "outputId": "487cfdb6-81ef-4e44-fb54-bd62457a4e6e"
      },
      "source": [
        "abstract_embeddings = np.load('AbstractSimVectors.npy')\n",
        "abstract_embeddings.shape"
      ],
      "execution_count": 4,
      "outputs": [
        {
          "output_type": "execute_result",
          "data": {
            "text/plain": [
              "(1262996, 512)"
            ]
          },
          "metadata": {
            "tags": []
          },
          "execution_count": 4
        }
      ]
    },
    {
      "cell_type": "code",
      "metadata": {
        "id": "2XA47ckO7x4o",
        "colab_type": "code",
        "colab": {
          "base_uri": "https://localhost:8080/",
          "height": 153
        },
        "outputId": "35b5697f-39a2-4f36-bdc6-835db5cc0b99"
      },
      "source": [
        "index = TPUIndex(num_tpu_cores=strategy.num_replicas_in_sync)\n",
        "index.create_index(abstract_embeddings)"
      ],
      "execution_count": 5,
      "outputs": [
        {
          "output_type": "stream",
          "text": [
            "Building index with 157874 vectors on /job:worker/replica:0/task:0/device:TPU:0\n",
            "Building index with 157874 vectors on /job:worker/replica:0/task:0/device:TPU:1\n",
            "Building index with 157874 vectors on /job:worker/replica:0/task:0/device:TPU:2\n",
            "Building index with 157874 vectors on /job:worker/replica:0/task:0/device:TPU:3\n",
            "Building index with 157874 vectors on /job:worker/replica:0/task:0/device:TPU:4\n",
            "Building index with 157874 vectors on /job:worker/replica:0/task:0/device:TPU:5\n",
            "Building index with 157874 vectors on /job:worker/replica:0/task:0/device:TPU:6\n",
            "Building index with 157874 vectors on /job:worker/replica:0/task:0/device:TPU:7\n"
          ],
          "name": "stdout"
        }
      ]
    },
    {
      "cell_type": "code",
      "metadata": {
        "id": "Syc0k8Yi4rcz",
        "colab_type": "code",
        "colab": {}
      },
      "source": [
        "with strategy.scope():\n",
        "  model = tf.saved_model.load('gs://tfworld/saved_models')"
      ],
      "execution_count": 0,
      "outputs": []
    },
    {
      "cell_type": "code",
      "metadata": {
        "id": "K32HklgqAajo",
        "colab_type": "code",
        "colab": {}
      },
      "source": [
        "tokenizer = BertTokenizer(vocab_file='scibert_scivocab_uncased/vocab.txt')\n",
        "\n",
        "df = pd.read_json('TitlesAbstractsEmbedIds.json.gzip', compression = 'gzip')\n",
        "embed2Title = pd.Series(df['title'].values,index=df['EmbeddingID']).to_dict()\n",
        "embed2Abstract = pd.Series(df['paperAbstract'].values,index=df['EmbeddingID']).to_dict()"
      ],
      "execution_count": 0,
      "outputs": []
    },
    {
      "cell_type": "code",
      "metadata": {
        "id": "jxkcuP0CDNKM",
        "colab_type": "code",
        "outputId": "f1a03882-7920-470a-e466-6ab37541cefa",
        "colab": {
          "base_uri": "https://localhost:8080/",
          "height": 170
        }
      },
      "source": [
        "embed_id = 567\n",
        "title = embed2Title[embed_id]\n",
        "abstract = embed2Abstract[embed_id]\n",
        "\n",
        "abstract_encoded = tokenizer.encode(abstract, max_length=512, pad_to_max_length=True)\n",
        "abstract_encoded = tf.constant(abstract_encoded, dtype=tf.int32)[None, :]\n",
        "print('Title : ')\n",
        "pprint(title)\n",
        "print('\\nAbstract : ')\n",
        "pprint(abstract)"
      ],
      "execution_count": 8,
      "outputs": [
        {
          "output_type": "stream",
          "text": [
            "Title : \n",
            "'DVCC based current-mode first-order all-pass filter and its application'\n",
            "\n",
            "Abstract : \n",
            "('In this paper, a new realisation of DVCC based current-mode all-pass filter '\n",
            " 'circuit is proposed. This circuit employs only one active element and three '\n",
            " 'passive elements of which two are grounded. Using the proposed filter '\n",
            " 'topology a new quadrature oscillator is presented as an application. SPICE '\n",
            " 'simulations verify the theoretical results.')\n"
          ],
          "name": "stdout"
        }
      ]
    },
    {
      "cell_type": "code",
      "metadata": {
        "id": "EhiyvUxrF4xr",
        "colab_type": "code",
        "outputId": "813c4931-488e-47a1-dbcd-497a1b7a0294",
        "colab": {
          "base_uri": "https://localhost:8080/",
          "height": 1000
        }
      },
      "source": [
        "s = time()\n",
        "bert_output = model(abstract_encoded)\n",
        "xq = tf.nn.l2_normalize(bert_output, axis=1)\n",
        "e_p = time()\n",
        "\n",
        "aD, aI = index.search(xq, top_k=5)\n",
        "e_s = time()\n",
        "print('\\n'*2)\n",
        "print('Prediction time  :', np.round(e_p-s, 3), 'secs')\n",
        "print('Search time      :', np.round(e_s-e_p, 3), 'secs')\n",
        "print('Total time       :', np.round(e_s - s, 3), 'secs')\n",
        "\n",
        "print('\\n'*4)\n",
        "print('*'*80)\n",
        "for i in range(len(aI)):\n",
        "  print('Abstract : ')\n",
        "  pprint(embed2Abstract[aI[i]])\n",
        "  print('*'*80)\n",
        "print('\\nNeighbours       :', aI )\n",
        "print('Distances        :', np.round(aD, 4))"
      ],
      "execution_count": 10,
      "outputs": [
        {
          "output_type": "stream",
          "text": [
            "Search running on /job:worker/replica:0/task:0/device:TPU:0\n",
            "Search running on /job:worker/replica:0/task:0/device:TPU:1\n",
            "Search running on /job:worker/replica:0/task:0/device:TPU:2\n",
            "Search running on /job:worker/replica:0/task:0/device:TPU:3\n",
            "Search running on /job:worker/replica:0/task:0/device:TPU:4\n",
            "Search running on /job:worker/replica:0/task:0/device:TPU:5\n",
            "Search running on /job:worker/replica:0/task:0/device:TPU:6\n",
            "Search running on /job:worker/replica:0/task:0/device:TPU:7\n",
            "\n",
            "\n",
            "\n",
            "Prediction time  : 0.002 secs\n",
            "Search time      : 0.752 secs\n",
            "Total time       : 0.754 secs\n",
            "\n",
            "\n",
            "\n",
            "\n",
            "\n",
            "********************************************************************************\n",
            "Abstract : \n",
            "('In this paper, a new realisation of DVCC based current-mode all-pass filter '\n",
            " 'circuit is proposed. This circuit employs only one active element and three '\n",
            " 'passive elements of which two are grounded. Using the proposed filter '\n",
            " 'topology a new quadrature oscillator is presented as an application. SPICE '\n",
            " 'simulations verify the theoretical results.')\n",
            "********************************************************************************\n",
            "Abstract : \n",
            "('In this paper, a new realization of a fully-differential (F-D) first-order '\n",
            " 'all-pass filter (APF) operating in current mode (CM) is presented. In the '\n",
            " 'proposed F-D CM APF a single adjustable current amplifier (ACA) and two '\n",
            " 'current followers (CFs) with non-unity gain are used as active building '\n",
            " 'blocks. Considering the input intrinsic resistance of CFs as useful active '\n",
            " 'filter parameter, the proposed filter employs only a floating capacitor as '\n",
            " 'external passive component. The pole frequency of the proposed resistorless '\n",
            " 'circuit can be tuned via mutual change of input intrinsic resistance of CFs '\n",
            " 'while the filter pass-band gain by means of gain of ACA. The theoretical '\n",
            " 'results are verified by SPICE simulations, where TSMC 0.18 μm level-7 SCN018 '\n",
            " 'CMOS process parameters were used.')\n",
            "********************************************************************************\n",
            "Abstract : \n",
            "('This paper presents a new dual input current-mode first-order all-pass '\n",
            " 'filter employing one differential difference current conveyor, one grounded '\n",
            " 'capacitor and three grounded resistors. The use of grounded passive '\n",
            " 'component makes the circuit suitable for integrated circuit implementation. '\n",
            " 'The output terminals also have high impedance level which enables easy '\n",
            " 'cascading in current-mode operation. The performances of the proposed '\n",
            " 'circuit are simulated with PSPICE to confirm the present theory.')\n",
            "********************************************************************************\n",
            "Abstract : \n",
            "('In this paper, a new RC circuit realization of voltage-mode (VM) first-order '\n",
            " 'all-pass filter (APF) is presented. The proposed VM APF scheme is composed '\n",
            " 'of a single grounded capacitor, three resistors with one being negative. The '\n",
            " 'main advantage of the circuit is the common ground terminal between the '\n",
            " 'input and the output. For proper functionality passive element matching is '\n",
            " 'required and the negative resistance is implemented with Arbel-Goldminz '\n",
            " 'operational transconductance amplifier. The theoretical results are verified '\n",
            " 'with SPICE simulations using PTM 90 nm level-7 CMOS process BSIM3v3 '\n",
            " 'parameters.')\n",
            "********************************************************************************\n",
            "Abstract : \n",
            "('In this paper two new high input-impedance voltage-mode first order all-pass '\n",
            " 'filters are proposed. The first proposed circuit uses two DVCCs as the '\n",
            " 'active elements, one floating capacitor and one grounded resistor as the '\n",
            " 'passive elements. Due to grounded resistor the phase of the filter is '\n",
            " 'electronically tunable. The second circuit requires two DVCCs as the active '\n",
            " 'elements, one floating resistor and one grounded capacitor as passive '\n",
            " 'elements. The utility and validity of the proposed circuits for analog '\n",
            " 'signal processing applications are verified through PSPICE simulations using '\n",
            " 'MOSIS 0.18μm CMOS technology process parameters.')\n",
            "********************************************************************************\n",
            "\n",
            "Neighbours       : [    567 1253927 1049566  624906  840334]\n",
            "Distances        : [0.     0.1599 0.1624 0.1635 0.1682]\n"
          ],
          "name": "stdout"
        }
      ]
    },
    {
      "cell_type": "code",
      "metadata": {
        "id": "ZmfksXjcIc04",
        "colab_type": "code",
        "colab": {}
      },
      "source": [
        ""
      ],
      "execution_count": 0,
      "outputs": []
    },
    {
      "cell_type": "code",
      "metadata": {
        "id": "7Nv5KmtIJK0t",
        "colab_type": "code",
        "colab": {}
      },
      "source": [
        ""
      ],
      "execution_count": 0,
      "outputs": []
    }
  ]
}